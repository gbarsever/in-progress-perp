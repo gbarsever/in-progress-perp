{
 "metadata": {
  "name": "cython_gsl_siam_talk"
 },
 "nbformat": 3,
 "nbformat_minor": 0,
 "worksheets": [
  {
   "cells": [
    {
     "cell_type": "heading",
     "level": 1,
     "metadata": {},
     "source": [
      "Fast Numerical Computing with CythonGSL"
     ]
    },
    {
     "cell_type": "heading",
     "level": 3,
     "metadata": {},
     "source": [
      "Thomas Wiecki"
     ]
    },
    {
     "cell_type": "markdown",
     "metadata": {},
     "source": [
      "About me\n",
      "--------\n",
      "\n",
      "* PhD student at Brown University\n",
      "    * Bayesian Statistics\n",
      "    * Computational Cognitive Neuroscience\n",
      "* Quantitative Researcher at Quantopian Inc. (http://www.quantopian.com)\n",
      "    * Building a free web-platform that allows you to build your own algorithmic trading strategy in Python and test it online.\n",
      "* Twitter: @twiecki\n",
      "* Github: twiecki\n",
      "* email: thomas.wiecki@gmail.com"
     ]
    },
    {
     "cell_type": "markdown",
     "metadata": {},
     "source": [
      "Python for Numerical Computing\n",
      "------------------------------\n",
      "\n",
      "* Python is a great high-level language.\n",
      "* As we all know, too slow for numerical computations.\n",
      "* Several approaches exist to leverage this problem:\n",
      "    * NumPy: Speed gain when expressing problem as matrix algebra.\n",
      "    * Cython: Python-like language that compiles to fast C.\n",
      "    * CythonGSL: Cython interface to the Gnu Scientific Library.\n",
      "    * Many more (Numba, PyPy, PyCUDA, Theano...)"
     ]
    },
    {
     "cell_type": "heading",
     "level": 2,
     "metadata": {},
     "source": [
      "Illustrative Example: Gibbs sampling"
     ]
    },
    {
     "cell_type": "markdown",
     "metadata": {},
     "source": [
      "Compute joint probability of: \n",
      "\n",
      "$f(x,y) = k \\times x^2 \\exp(-xy^2 - y^2 + 2y - 4x)$\n",
      "\n",
      "where $k$ is a normalizing constant so that $f(x, y)$  integrates to $1$.\n",
      "\n",
      "Set $\\frac{1}{k} = \\int_Y\\int_X x^2 \\exp(-xy^2 - y^2 + 2y - 4x) dx dy$.\n",
      "\n",
      "Integration is hard. Instead, lets Gibbs sample from the conditionals:\n",
      "\n",
      "$x|y \\sim Gamma(3, y^2 +4)$\n",
      "\n",
      "$y|x \\sim Normal(\\frac{1}{1+x}, \\frac{1}{2+2x)})$"
     ]
    },
    {
     "cell_type": "code",
     "collapsed": false,
     "input": [
      "import numpy as np\n",
      "import matplotlib.pyplot as plt"
     ],
     "language": "python",
     "metadata": {},
     "outputs": [],
     "prompt_number": 1
    },
    {
     "cell_type": "code",
     "collapsed": false,
     "input": [
      "x, y = np.mgrid[0:2.6:100j, -1.2:3.2:100j]\n",
      "def f(x, y):\n",
      "    return x**2 * np.exp(-x*y**2 - y**2 + 2*y - 4*x)\n",
      "\n",
      "plt.contourf(x, y, f(x, y))\n",
      "plt.xlabel('x')\n",
      "plt.ylabel('y')"
     ],
     "language": "python",
     "metadata": {},
     "outputs": [
      {
       "output_type": "pyout",
       "prompt_number": 2,
       "text": [
        "<matplotlib.text.Text at 0xb779e8c>"
       ]
      },
      {
       "output_type": "display_data",
       "png": "[encoded data removed]",
       "text": [
        "<matplotlib.figure.Figure at 0xb749d4c>"
       ]
      }
     ],
     "prompt_number": 2
    },
    {
     "cell_type": "heading",
     "level": 3,
     "metadata": {},
     "source": [
      "Pure Python version"
     ]
    },
    {
     "cell_type": "code",
     "collapsed": false,
     "input": [
      "import random, math\n",
      "\n",
      "def gibbs_pure_python(N=20000, thin=500):\n",
      "    x = 0\n",
      "    y = 0\n",
      "    samples = []\n",
      "    \n",
      "    for i in range(N):\n",
      "        for j in range(thin):\n",
      "            x = random.gammavariate(3, 1.0 / (y**2 + 4))\n",
      "            y = random.gauss(1.0/(x+1), 1.0 / math.sqrt(2 + 2*x))\n",
      "        samples.append((x, y))\n",
      "        \n",
      "    return samples"
     ],
     "language": "python",
     "metadata": {},
     "outputs": [],
     "prompt_number": 3
    },
    {
     "cell_type": "code",
     "collapsed": false,
     "input": [
      "%timeit gibbs_pure_python()"
     ],
     "language": "python",
     "metadata": {},
     "outputs": [
      {
       "output_type": "stream",
       "stream": "stdout",
       "text": [
        "1 loops, best of 3: 60.9 s per loop\n"
       ]
      }
     ],
     "prompt_number": 4
    },
    {
     "cell_type": "code",
     "collapsed": false,
     "input": [
      "posterior = np.asarray(gibbs_pure_python())\n",
      "plt.hexbin(posterior[:, 0], posterior[:, 1])"
     ],
     "language": "python",
     "metadata": {},
     "outputs": [
      {
       "output_type": "pyout",
       "prompt_number": 5,
       "text": [
        "<matplotlib.collections.PolyCollection at 0xba9594c>"
       ]
      },
      {
       "output_type": "display_data",
       "png": "[encoded data removed]",
       "text": [
        "<matplotlib.figure.Figure at 0xb7989cc>"
       ]
      }
     ],
     "prompt_number": 5
    },
    {
     "cell_type": "heading",
     "level": 3,
     "metadata": {},
     "source": [
      "NumPy version"
     ]
    },
    {
     "cell_type": "code",
     "collapsed": false,
     "input": [
      "import random, math, numpy\n",
      "\n",
      "def gibbs_numpy(N=20000, thin=500):\n",
      "    x = 0\n",
      "    y = 0\n",
      "    samples = np.empty((N, 2))\n",
      "    \n",
      "    for i in xrange(N):\n",
      "        for j in xrange(thin):\n",
      "            x = random.gammavariate(3, 1.0 / (y**2 + 4))\n",
      "            y = random.gauss(1.0/(x+1), 1.0 / math.sqrt(2 + 2*x))\n",
      "        samples[i, 0] = x\n",
      "        samples[j, 1] = y\n",
      "    return samples"
     ],
     "language": "python",
     "metadata": {},
     "outputs": [],
     "prompt_number": 6
    },
    {
     "cell_type": "code",
     "collapsed": false,
     "input": [
      "%timeit gibbs_numpy()"
     ],
     "language": "python",
     "metadata": {},
     "outputs": [
      {
       "output_type": "stream",
       "stream": "stdout",
       "text": [
        "1 loops, best of 3: 60.3 s per loop\n"
       ]
      }
     ],
     "prompt_number": 7
    },
    {
     "cell_type": "heading",
     "level": 3,
     "metadata": {},
     "source": [
      "Cython version"
     ]
    },
    {
     "cell_type": "code",
     "collapsed": false,
     "input": [
      "%load_ext cythonmagic"
     ],
     "language": "python",
     "metadata": {},
     "outputs": [],
     "prompt_number": 5
    },
    {
     "cell_type": "code",
     "collapsed": false,
     "input": [
      "%%cython -a\n",
      "\n",
      "import cython\n",
      "cimport cython\n",
      "\n",
      "import numpy as np\n",
      "cimport numpy as np\n",
      "\n",
      "import random\n",
      "import math\n",
      "\n",
      "from libc.math cimport sqrt\n",
      "\n",
      "@cython.boundscheck(False)\n",
      "@cython.wraparound(False)\n",
      "@cython.cdivision(True)\n",
      "def gibbs_cython(int N=20000, int thin=500):\n",
      "    cdef: \n",
      "        double x = 0\n",
      "        double y = 0\n",
      "        Py_ssize_t i, j\n",
      "        np.ndarray[np.float64_t, ndim=2] samples = np.empty((N, 2), dtype=np.float64)\n",
      "\n",
      "    for i in range(N):\n",
      "        for j in range(thin):\n",
      "            x = random.gammavariate(3, 1.0 / (y**2 + 4))\n",
      "            y = random.gauss(1.0/(x+1), 1.0 / sqrt(2 + 2*x))\n",
      "        samples[i, 0] = x\n",
      "        samples[i, 1] = y\n",
      "    return samples"
     ],
     "language": "python",
     "metadata": {},
     "outputs": [
      {
       "html": [
        "<!-- Generated by Cython 0.16 on Fri Feb 22 18:05:16 2013 -->\n",
        "<html>\n",
        "\n",
        "<head>\n",
        "<meta http-equiv=\"Content-Type\" content=\"text/html; charset=utf-8\" />\n",
        "<style type=\"text/css\">\n",
        "\n",
        "body { font-family: courier; font-size: 12; }\n",
        "\n",
        ".code  { font-size: 9; color: #444444; display: none; margin-left: 20px; }\n",
        ".py_c_api  { color: red; }\n",
        ".py_macro_api  { color: #FF7000; }\n",
        ".pyx_c_api  { color: #FF3000; }\n",
        ".pyx_macro_api  { color: #FF7000; }\n",
        ".refnanny  { color: #FFA000; }\n",
        "\n",
        ".error_goto  { color: #FFA000; }\n",
        "\n",
        ".tag  {  }\n",
        "\n",
        ".coerce  { color: #008000; border: 1px dotted #008000 }\n",
        "\n",
        ".py_attr { color: #FF0000; font-weight: bold; }\n",
        ".c_attr  { color: #0000FF; }\n",
        "\n",
        ".py_call { color: #FF0000; font-weight: bold; }\n",
        ".c_call  { color: #0000FF; }\n",
        "\n",
        ".line { margin: 0em }\n",
        "\n",
        "</style>\n",
        "<script>\n",
        "function toggleDiv(id) {\n",
        "    theDiv = document.getElementById(id);\n",
        "    if (theDiv.style.display == 'none') theDiv.style.display = 'block';\n",
        "    else theDiv.style.display = 'none';\n",
        "}\n",
        "</script>\n",
        "</head>\n",
        "        <body>\n",
        "<p>Generated by Cython 0.16 on Fri Feb 22 18:05:16 2013\n",
        "<pre class='line' style='background-color: #FFFFff' onclick='toggleDiv(\"line1\")'> 1: </pre>\n",
        "<pre id='line1' class='code' style='background-color: #FFFFff'></pre><pre class='line' style='background-color: #FFFF79' onclick='toggleDiv(\"line2\")'> 2: import cython</pre>\n",
        "<pre id='line2' class='code' style='background-color: #FFFF79'>\n",
        "  /* \"_cython_magic_47aca511be1c039cbd4a474ec757e22b.pyx\":2\n",
        " * \n",
        " * import cython             # <code><</code><code><</code><code><</code><code><</code><code><</code><code><</code><code><</code><code><</code><code><</code><code><</code><code><</code><code><</code><code><</code><code><</code>\n",
        " * cimport cython\n",
        " * \n",
        " */\n",
        "  __pyx_t_1 = <span class='py_c_api'>PyDict_New</span>();<span class='error_goto'> if (unlikely(!__pyx_t_1)) {__pyx_filename = __pyx_f[0]; __pyx_lineno = 2; __pyx_clineno = __LINE__; goto __pyx_L1_error;}</span>\n",
        "  <span class='pyx_macro_api'><span class='refnanny'>__Pyx_GOTREF</span></span>(((PyObject *)__pyx_t_1));\n",
        "  if (<span class='py_c_api'>PyObject_SetAttr</span>(__pyx_m, __pyx_n_s____test__, ((PyObject *)__pyx_t_1)) <code><</code> 0)<span class='error_goto'> {__pyx_filename = __pyx_f[0]; __pyx_lineno = 2; __pyx_clineno = __LINE__; goto __pyx_L1_error;}</span>\n",
        "  <span class='pyx_macro_api'>__Pyx_DECREF</span>(((PyObject *)__pyx_t_1)); __pyx_t_1 = 0;\n",
        "</pre><pre class='line' style='background-color: #FFFFff' onclick='toggleDiv(\"line3\")'> 3: cimport cython</pre>\n",
        "<pre id='line3' class='code' style='background-color: #FFFFff'></pre><pre class='line' style='background-color: #FFFFff' onclick='toggleDiv(\"line4\")'> 4: </pre>\n",
        "<pre id='line4' class='code' style='background-color: #FFFFff'></pre><pre class='line' style='background-color: #FFFF8d' onclick='toggleDiv(\"line5\")'> 5: import numpy as np</pre>\n",
        "<pre id='line5' class='code' style='background-color: #FFFF8d'>\n",
        "  /* \"_cython_magic_47aca511be1c039cbd4a474ec757e22b.pyx\":5\n",
        " * cimport cython\n",
        " * \n",
        " * import numpy as np             # <code><</code><code><</code><code><</code><code><</code><code><</code><code><</code><code><</code><code><</code><code><</code><code><</code><code><</code><code><</code><code><</code><code><</code>\n",
        " * cimport numpy as np\n",
        " * \n",
        " */\n",
        "  __pyx_t_1 = <span class='pyx_c_api'>__Pyx_Import</span>(((PyObject *)__pyx_n_s__numpy), 0, -1);<span class='error_goto'> if (unlikely(!__pyx_t_1)) {__pyx_filename = __pyx_f[0]; __pyx_lineno = 5; __pyx_clineno = __LINE__; goto __pyx_L1_error;}</span>\n",
        "  <span class='pyx_macro_api'><span class='refnanny'>__Pyx_GOTREF</span></span>(__pyx_t_1);\n",
        "  if (<span class='py_c_api'>PyObject_SetAttr</span>(__pyx_m, __pyx_n_s__np, __pyx_t_1) <code><</code> 0)<span class='error_goto'> {__pyx_filename = __pyx_f[0]; __pyx_lineno = 5; __pyx_clineno = __LINE__; goto __pyx_L1_error;}</span>\n",
        "  <span class='pyx_macro_api'>__Pyx_DECREF</span>(__pyx_t_1); __pyx_t_1 = 0;\n",
        "</pre><pre class='line' style='background-color: #FFFFff' onclick='toggleDiv(\"line6\")'> 6: cimport numpy as np</pre>\n",
        "<pre id='line6' class='code' style='background-color: #FFFFff'></pre><pre class='line' style='background-color: #FFFFff' onclick='toggleDiv(\"line7\")'> 7: </pre>\n",
        "<pre id='line7' class='code' style='background-color: #FFFFff'></pre><pre class='line' style='background-color: #FFFF8d' onclick='toggleDiv(\"line8\")'> 8: import random</pre>\n",
        "<pre id='line8' class='code' style='background-color: #FFFF8d'>\n",
        "  /* \"_cython_magic_47aca511be1c039cbd4a474ec757e22b.pyx\":8\n",
        " * cimport numpy as np\n",
        " * \n",
        " * import random             # <code><</code><code><</code><code><</code><code><</code><code><</code><code><</code><code><</code><code><</code><code><</code><code><</code><code><</code><code><</code><code><</code><code><</code>\n",
        " * import math\n",
        " * \n",
        " */\n",
        "  __pyx_t_1 = <span class='pyx_c_api'>__Pyx_Import</span>(((PyObject *)__pyx_n_s__random), 0, -1);<span class='error_goto'> if (unlikely(!__pyx_t_1)) {__pyx_filename = __pyx_f[0]; __pyx_lineno = 8; __pyx_clineno = __LINE__; goto __pyx_L1_error;}</span>\n",
        "  <span class='pyx_macro_api'><span class='refnanny'>__Pyx_GOTREF</span></span>(__pyx_t_1);\n",
        "  if (<span class='py_c_api'>PyObject_SetAttr</span>(__pyx_m, __pyx_n_s__random, __pyx_t_1) <code><</code> 0)<span class='error_goto'> {__pyx_filename = __pyx_f[0]; __pyx_lineno = 8; __pyx_clineno = __LINE__; goto __pyx_L1_error;}</span>\n",
        "  <span class='pyx_macro_api'>__Pyx_DECREF</span>(__pyx_t_1); __pyx_t_1 = 0;\n",
        "</pre><pre class='line' style='background-color: #FFFF8d' onclick='toggleDiv(\"line9\")'> 9: import math</pre>\n",
        "<pre id='line9' class='code' style='background-color: #FFFF8d'>\n",
        "  /* \"_cython_magic_47aca511be1c039cbd4a474ec757e22b.pyx\":9\n",
        " * \n",
        " * import random\n",
        " * import math             # <code><</code><code><</code><code><</code><code><</code><code><</code><code><</code><code><</code><code><</code><code><</code><code><</code><code><</code><code><</code><code><</code><code><</code>\n",
        " * \n",
        " * from libc.math cimport sqrt\n",
        " */\n",
        "  __pyx_t_1 = <span class='pyx_c_api'>__Pyx_Import</span>(((PyObject *)__pyx_n_s__math), 0, -1);<span class='error_goto'> if (unlikely(!__pyx_t_1)) {__pyx_filename = __pyx_f[0]; __pyx_lineno = 9; __pyx_clineno = __LINE__; goto __pyx_L1_error;}</span>\n",
        "  <span class='pyx_macro_api'><span class='refnanny'>__Pyx_GOTREF</span></span>(__pyx_t_1);\n",
        "  if (<span class='py_c_api'>PyObject_SetAttr</span>(__pyx_m, __pyx_n_s__math, __pyx_t_1) <code><</code> 0)<span class='error_goto'> {__pyx_filename = __pyx_f[0]; __pyx_lineno = 9; __pyx_clineno = __LINE__; goto __pyx_L1_error;}</span>\n",
        "  <span class='pyx_macro_api'>__Pyx_DECREF</span>(__pyx_t_1); __pyx_t_1 = 0;\n",
        "</pre><pre class='line' style='background-color: #FFFFff' onclick='toggleDiv(\"line10\")'> 10: </pre>\n",
        "<pre id='line10' class='code' style='background-color: #FFFFff'></pre><pre class='line' style='background-color: #FFFFff' onclick='toggleDiv(\"line11\")'> 11: from libc.math cimport sqrt</pre>\n",
        "<pre id='line11' class='code' style='background-color: #FFFFff'></pre><pre class='line' style='background-color: #FFFFff' onclick='toggleDiv(\"line12\")'> 12: </pre>\n",
        "<pre id='line12' class='code' style='background-color: #FFFFff'></pre><pre class='line' style='background-color: #FFFFff' onclick='toggleDiv(\"line13\")'> 13: @cython.boundscheck(False)</pre>\n",
        "<pre id='line13' class='code' style='background-color: #FFFFff'></pre><pre class='line' style='background-color: #FFFFff' onclick='toggleDiv(\"line14\")'> 14: @cython.wraparound(False)</pre>\n",
        "<pre id='line14' class='code' style='background-color: #FFFFff'></pre><pre class='line' style='background-color: #FFFFff' onclick='toggleDiv(\"line15\")'> 15: @cython.cdivision(True)</pre>\n",
        "<pre id='line15' class='code' style='background-color: #FFFFff'></pre><pre class='line' style='background-color: #FFFF48' onclick='toggleDiv(\"line16\")'> 16: def gibbs_cython(int N=20000, int thin=500):</pre>\n",
        "<pre id='line16' class='code' style='background-color: #FFFF48'>\n",
        "/* \"_cython_magic_47aca511be1c039cbd4a474ec757e22b.pyx\":16\n",
        " * @cython.wraparound(False)\n",
        " * @cython.cdivision(True)\n",
        " * def gibbs_cython(int N=20000, int thin=500):             # <code><</code><code><</code><code><</code><code><</code><code><</code><code><</code><code><</code><code><</code><code><</code><code><</code><code><</code><code><</code><code><</code><code><</code>\n",
        " *     cdef:\n",
        " *         double x = 0\n",
        " */\n",
        "\n",
        "static PyObject *__pyx_pf_46_cython_magic_47aca511be1c039cbd4a474ec757e22b_gibbs_cython(CYTHON_UNUSED PyObject *__pyx_self, int __pyx_v_N, int __pyx_v_thin) {\n",
        "  double __pyx_v_x;\n",
        "  double __pyx_v_y;\n",
        "  Py_ssize_t __pyx_v_i;\n",
        "  CYTHON_UNUSED Py_ssize_t __pyx_v_j;\n",
        "  PyArrayObject *__pyx_v_samples = 0;\n",
        "  __Pyx_LocalBuf_ND __pyx_pybuffernd_samples;\n",
        "  __Pyx_Buffer __pyx_pybuffer_samples;\n",
        "  PyObject *__pyx_r = NULL;\n",
        "  <span class='refnanny'>__Pyx_RefNannyDeclarations</span>\n",
        "  <span class='pyx_c_api'><span class='refnanny'>__Pyx_RefNannySetupContext</span></span>(\"gibbs_cython\", 0);\n",
        "  __pyx_pybuffer_samples.pybuffer.buf = NULL;\n",
        "  __pyx_pybuffer_samples.refcount = 0;\n",
        "  __pyx_pybuffernd_samples.data = NULL;\n",
        "  __pyx_pybuffernd_samples.rcbuffer = &__pyx_pybuffer_samples;\n",
        "\n",
        "  /* \"_cython_magic_47aca511be1c039cbd4a474ec757e22b.pyx\":16\n",
        " * @cython.wraparound(False)\n",
        " * @cython.cdivision(True)\n",
        " * def gibbs_cython(int N=20000, int thin=500):             # <code><</code><code><</code><code><</code><code><</code><code><</code><code><</code><code><</code><code><</code><code><</code><code><</code><code><</code><code><</code><code><</code><code><</code>\n",
        " *     cdef:\n",
        " *         double x = 0\n",
        " */\n",
        "  __pyx_k_tuple_13 = <span class='py_c_api'>PyTuple_New</span>(7);<span class='error_goto'> if (unlikely(!__pyx_k_tuple_13)) {__pyx_filename = __pyx_f[0]; __pyx_lineno = 16; __pyx_clineno = __LINE__; goto __pyx_L1_error;}</span>\n",
        "  <span class='pyx_macro_api'><span class='refnanny'>__Pyx_GOTREF</span></span>(__pyx_k_tuple_13);\n",
        "  <span class='pyx_macro_api'>__Pyx_INCREF</span>(((PyObject *)__pyx_n_s__N));\n",
        "  <span class='py_macro_api'>PyTuple_SET_ITEM</span>(__pyx_k_tuple_13, 0, ((PyObject *)__pyx_n_s__N));\n",
        "  <span class='pyx_macro_api'><span class='refnanny'>__Pyx_GIVEREF</span></span>(((PyObject *)__pyx_n_s__N));\n",
        "  <span class='pyx_macro_api'>__Pyx_INCREF</span>(((PyObject *)__pyx_n_s__thin));\n",
        "  <span class='py_macro_api'>PyTuple_SET_ITEM</span>(__pyx_k_tuple_13, 1, ((PyObject *)__pyx_n_s__thin));\n",
        "  <span class='pyx_macro_api'><span class='refnanny'>__Pyx_GIVEREF</span></span>(((PyObject *)__pyx_n_s__thin));\n",
        "  <span class='pyx_macro_api'>__Pyx_INCREF</span>(((PyObject *)__pyx_n_s__x));\n",
        "  <span class='py_macro_api'>PyTuple_SET_ITEM</span>(__pyx_k_tuple_13, 2, ((PyObject *)__pyx_n_s__x));\n",
        "  <span class='pyx_macro_api'><span class='refnanny'>__Pyx_GIVEREF</span></span>(((PyObject *)__pyx_n_s__x));\n",
        "  <span class='pyx_macro_api'>__Pyx_INCREF</span>(((PyObject *)__pyx_n_s__y));\n",
        "  <span class='py_macro_api'>PyTuple_SET_ITEM</span>(__pyx_k_tuple_13, 3, ((PyObject *)__pyx_n_s__y));\n",
        "  <span class='pyx_macro_api'><span class='refnanny'>__Pyx_GIVEREF</span></span>(((PyObject *)__pyx_n_s__y));\n",
        "  <span class='pyx_macro_api'>__Pyx_INCREF</span>(((PyObject *)__pyx_n_s__i));\n",
        "  <span class='py_macro_api'>PyTuple_SET_ITEM</span>(__pyx_k_tuple_13, 4, ((PyObject *)__pyx_n_s__i));\n",
        "  <span class='pyx_macro_api'><span class='refnanny'>__Pyx_GIVEREF</span></span>(((PyObject *)__pyx_n_s__i));\n",
        "  <span class='pyx_macro_api'>__Pyx_INCREF</span>(((PyObject *)__pyx_n_s__j));\n",
        "  <span class='py_macro_api'>PyTuple_SET_ITEM</span>(__pyx_k_tuple_13, 5, ((PyObject *)__pyx_n_s__j));\n",
        "  <span class='pyx_macro_api'><span class='refnanny'>__Pyx_GIVEREF</span></span>(((PyObject *)__pyx_n_s__j));\n",
        "  <span class='pyx_macro_api'>__Pyx_INCREF</span>(((PyObject *)__pyx_n_s__samples));\n",
        "  <span class='py_macro_api'>PyTuple_SET_ITEM</span>(__pyx_k_tuple_13, 6, ((PyObject *)__pyx_n_s__samples));\n",
        "  <span class='pyx_macro_api'><span class='refnanny'>__Pyx_GIVEREF</span></span>(((PyObject *)__pyx_n_s__samples));\n",
        "  <span class='pyx_macro_api'><span class='refnanny'>__Pyx_GIVEREF</span></span>(((PyObject *)__pyx_k_tuple_13));\n",
        "\n",
        "  /* \"_cython_magic_47aca511be1c039cbd4a474ec757e22b.pyx\":16\n",
        " * @cython.wraparound(False)\n",
        " * @cython.cdivision(True)\n",
        " * def gibbs_cython(int N=20000, int thin=500):             # <code><</code><code><</code><code><</code><code><</code><code><</code><code><</code><code><</code><code><</code><code><</code><code><</code><code><</code><code><</code><code><</code><code><</code>\n",
        " *     cdef:\n",
        " *         double x = 0\n",
        " */\n",
        "  __pyx_t_1 = PyCFunction_NewEx(&__pyx_mdef_46_cython_magic_47aca511be1c039cbd4a474ec757e22b_1gibbs_cython, NULL, __pyx_n_s_16);<span class='error_goto'> if (unlikely(!__pyx_t_1)) {__pyx_filename = __pyx_f[0]; __pyx_lineno = 16; __pyx_clineno = __LINE__; goto __pyx_L1_error;}</span>\n",
        "  <span class='pyx_macro_api'><span class='refnanny'>__Pyx_GOTREF</span></span>(__pyx_t_1);\n",
        "  if (<span class='py_c_api'>PyObject_SetAttr</span>(__pyx_m, __pyx_n_s__gibbs_cython, __pyx_t_1) <code><</code> 0)<span class='error_goto'> {__pyx_filename = __pyx_f[0]; __pyx_lineno = 16; __pyx_clineno = __LINE__; goto __pyx_L1_error;}</span>\n",
        "  <span class='pyx_macro_api'>__Pyx_DECREF</span>(__pyx_t_1); __pyx_t_1 = 0;\n",
        "</pre><pre class='line' style='background-color: #FFFFff' onclick='toggleDiv(\"line17\")'> 17:     cdef:</pre>\n",
        "<pre id='line17' class='code' style='background-color: #FFFFff'></pre><pre class='line' style='background-color: #FFFFff' onclick='toggleDiv(\"line18\")'> 18:         double x = 0</pre>\n",
        "<pre id='line18' class='code' style='background-color: #FFFFff'>\n",
        "  /* \"_cython_magic_47aca511be1c039cbd4a474ec757e22b.pyx\":18\n",
        " * def gibbs_cython(int N=20000, int thin=500):\n",
        " *     cdef:\n",
        " *         double x = 0             # <code><</code><code><</code><code><</code><code><</code><code><</code><code><</code><code><</code><code><</code><code><</code><code><</code><code><</code><code><</code><code><</code><code><</code>\n",
        " *         double y = 0\n",
        " *         Py_ssize_t i, j\n",
        " */\n",
        "  __pyx_v_x = 0.0;\n",
        "</pre><pre class='line' style='background-color: #FFFFff' onclick='toggleDiv(\"line19\")'> 19:         double y = 0</pre>\n",
        "<pre id='line19' class='code' style='background-color: #FFFFff'>\n",
        "  /* \"_cython_magic_47aca511be1c039cbd4a474ec757e22b.pyx\":19\n",
        " *     cdef:\n",
        " *         double x = 0\n",
        " *         double y = 0             # <code><</code><code><</code><code><</code><code><</code><code><</code><code><</code><code><</code><code><</code><code><</code><code><</code><code><</code><code><</code><code><</code><code><</code>\n",
        " *         Py_ssize_t i, j\n",
        " *         np.ndarray[np.float64_t, ndim=2] samples = np.empty((N, 2), dtype=np.float64)\n",
        " */\n",
        "  __pyx_v_y = 0.0;\n",
        "</pre><pre class='line' style='background-color: #FFFFff' onclick='toggleDiv(\"line20\")'> 20:         Py_ssize_t i, j</pre>\n",
        "<pre id='line20' class='code' style='background-color: #FFFFff'></pre><pre class='line' style='background-color: #FFFF24' onclick='toggleDiv(\"line21\")'> 21:         np.ndarray[np.float64_t, ndim=2] samples = np.empty((N, 2), dtype=np.float64)</pre>\n",
        "<pre id='line21' class='code' style='background-color: #FFFF24'>\n",
        "  /* \"_cython_magic_47aca511be1c039cbd4a474ec757e22b.pyx\":21\n",
        " *         double y = 0\n",
        " *         Py_ssize_t i, j\n",
        " *         np.ndarray[np.float64_t, ndim=2] samples = np.empty((N, 2), dtype=np.float64)             # <code><</code><code><</code><code><</code><code><</code><code><</code><code><</code><code><</code><code><</code><code><</code><code><</code><code><</code><code><</code><code><</code><code><</code>\n",
        " * \n",
        " *     for i in range(N):\n",
        " */\n",
        "  __pyx_t_1 = <span class='pyx_c_api'>__Pyx_GetName</span>(__pyx_m, __pyx_n_s__np);<span class='error_goto'> if (unlikely(!__pyx_t_1)) {__pyx_filename = __pyx_f[0]; __pyx_lineno = 21; __pyx_clineno = __LINE__; goto __pyx_L1_error;}</span>\n",
        "  <span class='pyx_macro_api'><span class='refnanny'>__Pyx_GOTREF</span></span>(__pyx_t_1);\n",
        "  __pyx_t_2 = <span class='py_c_api'>PyObject_GetAttr</span>(__pyx_t_1, __pyx_n_s__empty);<span class='error_goto'> if (unlikely(!__pyx_t_2)) {__pyx_filename = __pyx_f[0]; __pyx_lineno = 21; __pyx_clineno = __LINE__; goto __pyx_L1_error;}</span>\n",
        "  <span class='pyx_macro_api'><span class='refnanny'>__Pyx_GOTREF</span></span>(__pyx_t_2);\n",
        "  <span class='pyx_macro_api'>__Pyx_DECREF</span>(__pyx_t_1); __pyx_t_1 = 0;\n",
        "  __pyx_t_1 = <span class='py_c_api'>PyInt_FromLong</span>(__pyx_v_N);<span class='error_goto'> if (unlikely(!__pyx_t_1)) {__pyx_filename = __pyx_f[0]; __pyx_lineno = 21; __pyx_clineno = __LINE__; goto __pyx_L1_error;}</span>\n",
        "  <span class='pyx_macro_api'><span class='refnanny'>__Pyx_GOTREF</span></span>(__pyx_t_1);\n",
        "  __pyx_t_3 = <span class='py_c_api'>PyTuple_New</span>(2);<span class='error_goto'> if (unlikely(!__pyx_t_3)) {__pyx_filename = __pyx_f[0]; __pyx_lineno = 21; __pyx_clineno = __LINE__; goto __pyx_L1_error;}</span>\n",
        "  <span class='pyx_macro_api'><span class='refnanny'>__Pyx_GOTREF</span></span>(__pyx_t_3);\n",
        "  <span class='py_macro_api'>PyTuple_SET_ITEM</span>(__pyx_t_3, 0, __pyx_t_1);\n",
        "  <span class='pyx_macro_api'><span class='refnanny'>__Pyx_GIVEREF</span></span>(__pyx_t_1);\n",
        "  <span class='pyx_macro_api'>__Pyx_INCREF</span>(__pyx_int_2);\n",
        "  <span class='py_macro_api'>PyTuple_SET_ITEM</span>(__pyx_t_3, 1, __pyx_int_2);\n",
        "  <span class='pyx_macro_api'><span class='refnanny'>__Pyx_GIVEREF</span></span>(__pyx_int_2);\n",
        "  __pyx_t_1 = 0;\n",
        "  __pyx_t_1 = <span class='py_c_api'>PyTuple_New</span>(1);<span class='error_goto'> if (unlikely(!__pyx_t_1)) {__pyx_filename = __pyx_f[0]; __pyx_lineno = 21; __pyx_clineno = __LINE__; goto __pyx_L1_error;}</span>\n",
        "  <span class='pyx_macro_api'><span class='refnanny'>__Pyx_GOTREF</span></span>(__pyx_t_1);\n",
        "  <span class='py_macro_api'>PyTuple_SET_ITEM</span>(__pyx_t_1, 0, ((PyObject *)__pyx_t_3));\n",
        "  <span class='pyx_macro_api'><span class='refnanny'>__Pyx_GIVEREF</span></span>(((PyObject *)__pyx_t_3));\n",
        "  __pyx_t_3 = 0;\n",
        "  __pyx_t_3 = <span class='py_c_api'>PyDict_New</span>();<span class='error_goto'> if (unlikely(!__pyx_t_3)) {__pyx_filename = __pyx_f[0]; __pyx_lineno = 21; __pyx_clineno = __LINE__; goto __pyx_L1_error;}</span>\n",
        "  <span class='pyx_macro_api'><span class='refnanny'>__Pyx_GOTREF</span></span>(((PyObject *)__pyx_t_3));\n",
        "  __pyx_t_4 = <span class='pyx_c_api'>__Pyx_GetName</span>(__pyx_m, __pyx_n_s__np);<span class='error_goto'> if (unlikely(!__pyx_t_4)) {__pyx_filename = __pyx_f[0]; __pyx_lineno = 21; __pyx_clineno = __LINE__; goto __pyx_L1_error;}</span>\n",
        "  <span class='pyx_macro_api'><span class='refnanny'>__Pyx_GOTREF</span></span>(__pyx_t_4);\n",
        "  __pyx_t_5 = <span class='py_c_api'>PyObject_GetAttr</span>(__pyx_t_4, __pyx_n_s__float64);<span class='error_goto'> if (unlikely(!__pyx_t_5)) {__pyx_filename = __pyx_f[0]; __pyx_lineno = 21; __pyx_clineno = __LINE__; goto __pyx_L1_error;}</span>\n",
        "  <span class='pyx_macro_api'><span class='refnanny'>__Pyx_GOTREF</span></span>(__pyx_t_5);\n",
        "  <span class='pyx_macro_api'>__Pyx_DECREF</span>(__pyx_t_4); __pyx_t_4 = 0;\n",
        "  if (<span class='py_c_api'>PyDict_SetItem</span>(__pyx_t_3, ((PyObject *)__pyx_n_s__dtype), __pyx_t_5) <code><</code> 0)<span class='error_goto'> {__pyx_filename = __pyx_f[0]; __pyx_lineno = 21; __pyx_clineno = __LINE__; goto __pyx_L1_error;}</span>\n",
        "  <span class='pyx_macro_api'>__Pyx_DECREF</span>(__pyx_t_5); __pyx_t_5 = 0;\n",
        "  __pyx_t_5 = <span class='py_c_api'>PyObject_Call</span>(__pyx_t_2, ((PyObject *)__pyx_t_1), ((PyObject *)__pyx_t_3));<span class='error_goto'> if (unlikely(!__pyx_t_5)) {__pyx_filename = __pyx_f[0]; __pyx_lineno = 21; __pyx_clineno = __LINE__; goto __pyx_L1_error;}</span>\n",
        "  <span class='pyx_macro_api'><span class='refnanny'>__Pyx_GOTREF</span></span>(__pyx_t_5);\n",
        "  <span class='pyx_macro_api'>__Pyx_DECREF</span>(__pyx_t_2); __pyx_t_2 = 0;\n",
        "  <span class='pyx_macro_api'>__Pyx_DECREF</span>(((PyObject *)__pyx_t_1)); __pyx_t_1 = 0;\n",
        "  <span class='pyx_macro_api'>__Pyx_DECREF</span>(((PyObject *)__pyx_t_3)); __pyx_t_3 = 0;\n",
        "  if (!(likely(((__pyx_t_5) == Py_None) || likely(<span class='pyx_c_api'>__Pyx_TypeTest</span>(__pyx_t_5, __pyx_ptype_5numpy_ndarray)))))<span class='error_goto'> {__pyx_filename = __pyx_f[0]; __pyx_lineno = 21; __pyx_clineno = __LINE__; goto __pyx_L1_error;}</span>\n",
        "  __pyx_t_6 = ((PyArrayObject *)__pyx_t_5);\n",
        "  {\n",
        "    __Pyx_BufFmt_StackElem __pyx_stack[1];\n",
        "    if (unlikely(<span class='pyx_c_api'>__Pyx_GetBufferAndValidate</span>(&__pyx_pybuffernd_samples.rcbuffer->pybuffer, (PyObject*)__pyx_t_6, &__Pyx_TypeInfo_nn___pyx_t_5numpy_float64_t, PyBUF_FORMAT| PyBUF_STRIDES| PyBUF_WRITABLE, 2, 0, __pyx_stack) == -1)) {\n",
        "      __pyx_v_samples = ((PyArrayObject *)Py_None); <span class='pyx_macro_api'>__Pyx_INCREF</span>(Py_None); __pyx_pybuffernd_samples.rcbuffer->pybuffer.buf = NULL;\n",
        "     <span class='error_goto'> {__pyx_filename = __pyx_f[0]; __pyx_lineno = 21; __pyx_clineno = __LINE__; goto __pyx_L1_error;}</span>\n",
        "    } else {__pyx_pybuffernd_samples.diminfo[0].strides = __pyx_pybuffernd_samples.rcbuffer->pybuffer.strides[0]; __pyx_pybuffernd_samples.diminfo[0].shape = __pyx_pybuffernd_samples.rcbuffer->pybuffer.shape[0]; __pyx_pybuffernd_samples.diminfo[1].strides = __pyx_pybuffernd_samples.rcbuffer->pybuffer.strides[1]; __pyx_pybuffernd_samples.diminfo[1].shape = __pyx_pybuffernd_samples.rcbuffer->pybuffer.shape[1];\n",
        "    }\n",
        "  }\n",
        "  __pyx_t_6 = 0;\n",
        "  __pyx_v_samples = ((PyArrayObject *)__pyx_t_5);\n",
        "  __pyx_t_5 = 0;\n",
        "</pre><pre class='line' style='background-color: #FFFFff' onclick='toggleDiv(\"line22\")'> 22: </pre>\n",
        "<pre id='line22' class='code' style='background-color: #FFFFff'></pre><pre class='line' style='background-color: #FFFFff' onclick='toggleDiv(\"line23\")'> 23:     for i in range(N):</pre>\n",
        "<pre id='line23' class='code' style='background-color: #FFFFff'>\n",
        "  /* \"_cython_magic_47aca511be1c039cbd4a474ec757e22b.pyx\":23\n",
        " *         np.ndarray[np.float64_t, ndim=2] samples = np.empty((N, 2), dtype=np.float64)\n",
        " * \n",
        " *     for i in range(N):             # <code><</code><code><</code><code><</code><code><</code><code><</code><code><</code><code><</code><code><</code><code><</code><code><</code><code><</code><code><</code><code><</code><code><</code>\n",
        " *         for j in range(thin):\n",
        " *             x = random.gammavariate(3, 1.0 / (y**2 + 4))\n",
        " */\n",
        "  __pyx_t_7 = __pyx_v_N;\n",
        "  for (__pyx_t_8 = 0; __pyx_t_8 <code><</code> __pyx_t_7; __pyx_t_8+=1) {\n",
        "    __pyx_v_i = __pyx_t_8;\n",
        "</pre><pre class='line' style='background-color: #FFFFff' onclick='toggleDiv(\"line24\")'> 24:         for j in range(thin):</pre>\n",
        "<pre id='line24' class='code' style='background-color: #FFFFff'>\n",
        "    /* \"_cython_magic_47aca511be1c039cbd4a474ec757e22b.pyx\":24\n",
        " * \n",
        " *     for i in range(N):\n",
        " *         for j in range(thin):             # <code><</code><code><</code><code><</code><code><</code><code><</code><code><</code><code><</code><code><</code><code><</code><code><</code><code><</code><code><</code><code><</code><code><</code>\n",
        " *             x = random.gammavariate(3, 1.0 / (y**2 + 4))\n",
        " *             y = random.gauss(1.0/(x+1), 1.0 / sqrt(2 + 2*x))\n",
        " */\n",
        "    __pyx_t_9 = __pyx_v_thin;\n",
        "    for (__pyx_t_10 = 0; __pyx_t_10 <code><</code> __pyx_t_9; __pyx_t_10+=1) {\n",
        "      __pyx_v_j = __pyx_t_10;\n",
        "</pre><pre class='line' style='background-color: #FFFF34' onclick='toggleDiv(\"line25\")'> 25:             x = random.gammavariate(3, 1.0 / (y**2 + 4))</pre>\n",
        "<pre id='line25' class='code' style='background-color: #FFFF34'>\n",
        "      /* \"_cython_magic_47aca511be1c039cbd4a474ec757e22b.pyx\":25\n",
        " *     for i in range(N):\n",
        " *         for j in range(thin):\n",
        " *             x = random.gammavariate(3, 1.0 / (y**2 + 4))             # <code><</code><code><</code><code><</code><code><</code><code><</code><code><</code><code><</code><code><</code><code><</code><code><</code><code><</code><code><</code><code><</code><code><</code>\n",
        " *             y = random.gauss(1.0/(x+1), 1.0 / sqrt(2 + 2*x))\n",
        " *         samples[i, 0] = x\n",
        " */\n",
        "      __pyx_t_5 = <span class='pyx_c_api'>__Pyx_GetName</span>(__pyx_m, __pyx_n_s__random);<span class='error_goto'> if (unlikely(!__pyx_t_5)) {__pyx_filename = __pyx_f[0]; __pyx_lineno = 25; __pyx_clineno = __LINE__; goto __pyx_L1_error;}</span>\n",
        "      <span class='pyx_macro_api'><span class='refnanny'>__Pyx_GOTREF</span></span>(__pyx_t_5);\n",
        "      __pyx_t_3 = <span class='py_c_api'>PyObject_GetAttr</span>(__pyx_t_5, __pyx_n_s__gammavariate);<span class='error_goto'> if (unlikely(!__pyx_t_3)) {__pyx_filename = __pyx_f[0]; __pyx_lineno = 25; __pyx_clineno = __LINE__; goto __pyx_L1_error;}</span>\n",
        "      <span class='pyx_macro_api'><span class='refnanny'>__Pyx_GOTREF</span></span>(__pyx_t_3);\n",
        "      <span class='pyx_macro_api'>__Pyx_DECREF</span>(__pyx_t_5); __pyx_t_5 = 0;\n",
        "      __pyx_t_5 = <span class='py_c_api'>PyFloat_FromDouble</span>((1.0 / (pow(__pyx_v_y, 2.0) + 4.0)));<span class='error_goto'> if (unlikely(!__pyx_t_5)) {__pyx_filename = __pyx_f[0]; __pyx_lineno = 25; __pyx_clineno = __LINE__; goto __pyx_L1_error;}</span>\n",
        "      <span class='pyx_macro_api'><span class='refnanny'>__Pyx_GOTREF</span></span>(__pyx_t_5);\n",
        "      __pyx_t_1 = <span class='py_c_api'>PyTuple_New</span>(2);<span class='error_goto'> if (unlikely(!__pyx_t_1)) {__pyx_filename = __pyx_f[0]; __pyx_lineno = 25; __pyx_clineno = __LINE__; goto __pyx_L1_error;}</span>\n",
        "      <span class='pyx_macro_api'><span class='refnanny'>__Pyx_GOTREF</span></span>(__pyx_t_1);\n",
        "      <span class='pyx_macro_api'>__Pyx_INCREF</span>(__pyx_int_3);\n",
        "      <span class='py_macro_api'>PyTuple_SET_ITEM</span>(__pyx_t_1, 0, __pyx_int_3);\n",
        "      <span class='pyx_macro_api'><span class='refnanny'>__Pyx_GIVEREF</span></span>(__pyx_int_3);\n",
        "      <span class='py_macro_api'>PyTuple_SET_ITEM</span>(__pyx_t_1, 1, __pyx_t_5);\n",
        "      <span class='pyx_macro_api'><span class='refnanny'>__Pyx_GIVEREF</span></span>(__pyx_t_5);\n",
        "      __pyx_t_5 = 0;\n",
        "      __pyx_t_5 = <span class='py_c_api'>PyObject_Call</span>(__pyx_t_3, ((PyObject *)__pyx_t_1), NULL);<span class='error_goto'> if (unlikely(!__pyx_t_5)) {__pyx_filename = __pyx_f[0]; __pyx_lineno = 25; __pyx_clineno = __LINE__; goto __pyx_L1_error;}</span>\n",
        "      <span class='pyx_macro_api'><span class='refnanny'>__Pyx_GOTREF</span></span>(__pyx_t_5);\n",
        "      <span class='pyx_macro_api'>__Pyx_DECREF</span>(__pyx_t_3); __pyx_t_3 = 0;\n",
        "      <span class='pyx_macro_api'>__Pyx_DECREF</span>(((PyObject *)__pyx_t_1)); __pyx_t_1 = 0;\n",
        "      __pyx_t_11 = __pyx_<span class='py_c_api'>PyFloat_AsDouble</span>(__pyx_t_5);<span class='error_goto'> if (unlikely((__pyx_t_11 == (double)-1) && <span class='py_c_api'>PyErr_Occurred</span>())) {__pyx_filename = __pyx_f[0]; __pyx_lineno = 25; __pyx_clineno = __LINE__; goto __pyx_L1_error;}</span>\n",
        "      <span class='pyx_macro_api'>__Pyx_DECREF</span>(__pyx_t_5); __pyx_t_5 = 0;\n",
        "      __pyx_v_x = __pyx_t_11;\n",
        "</pre><pre class='line' style='background-color: #FFFF30' onclick='toggleDiv(\"line26\")'> 26:             y = random.gauss(1.0/(x+1), 1.0 / sqrt(2 + 2*x))</pre>\n",
        "<pre id='line26' class='code' style='background-color: #FFFF30'>\n",
        "      /* \"_cython_magic_47aca511be1c039cbd4a474ec757e22b.pyx\":26\n",
        " *         for j in range(thin):\n",
        " *             x = random.gammavariate(3, 1.0 / (y**2 + 4))\n",
        " *             y = random.gauss(1.0/(x+1), 1.0 / sqrt(2 + 2*x))             # <code><</code><code><</code><code><</code><code><</code><code><</code><code><</code><code><</code><code><</code><code><</code><code><</code><code><</code><code><</code><code><</code><code><</code>\n",
        " *         samples[i, 0] = x\n",
        " *         samples[i, 1] = y\n",
        " */\n",
        "      __pyx_t_5 = <span class='pyx_c_api'>__Pyx_GetName</span>(__pyx_m, __pyx_n_s__random);<span class='error_goto'> if (unlikely(!__pyx_t_5)) {__pyx_filename = __pyx_f[0]; __pyx_lineno = 26; __pyx_clineno = __LINE__; goto __pyx_L1_error;}</span>\n",
        "      <span class='pyx_macro_api'><span class='refnanny'>__Pyx_GOTREF</span></span>(__pyx_t_5);\n",
        "      __pyx_t_1 = <span class='py_c_api'>PyObject_GetAttr</span>(__pyx_t_5, __pyx_n_s__gauss);<span class='error_goto'> if (unlikely(!__pyx_t_1)) {__pyx_filename = __pyx_f[0]; __pyx_lineno = 26; __pyx_clineno = __LINE__; goto __pyx_L1_error;}</span>\n",
        "      <span class='pyx_macro_api'><span class='refnanny'>__Pyx_GOTREF</span></span>(__pyx_t_1);\n",
        "      <span class='pyx_macro_api'>__Pyx_DECREF</span>(__pyx_t_5); __pyx_t_5 = 0;\n",
        "      __pyx_t_5 = <span class='py_c_api'>PyFloat_FromDouble</span>((1.0 / (__pyx_v_x + 1.0)));<span class='error_goto'> if (unlikely(!__pyx_t_5)) {__pyx_filename = __pyx_f[0]; __pyx_lineno = 26; __pyx_clineno = __LINE__; goto __pyx_L1_error;}</span>\n",
        "      <span class='pyx_macro_api'><span class='refnanny'>__Pyx_GOTREF</span></span>(__pyx_t_5);\n",
        "      __pyx_t_3 = <span class='py_c_api'>PyFloat_FromDouble</span>((1.0 / sqrt((2.0 + (2.0 * __pyx_v_x)))));<span class='error_goto'> if (unlikely(!__pyx_t_3)) {__pyx_filename = __pyx_f[0]; __pyx_lineno = 26; __pyx_clineno = __LINE__; goto __pyx_L1_error;}</span>\n",
        "      <span class='pyx_macro_api'><span class='refnanny'>__Pyx_GOTREF</span></span>(__pyx_t_3);\n",
        "      __pyx_t_2 = <span class='py_c_api'>PyTuple_New</span>(2);<span class='error_goto'> if (unlikely(!__pyx_t_2)) {__pyx_filename = __pyx_f[0]; __pyx_lineno = 26; __pyx_clineno = __LINE__; goto __pyx_L1_error;}</span>\n",
        "      <span class='pyx_macro_api'><span class='refnanny'>__Pyx_GOTREF</span></span>(__pyx_t_2);\n",
        "      <span class='py_macro_api'>PyTuple_SET_ITEM</span>(__pyx_t_2, 0, __pyx_t_5);\n",
        "      <span class='pyx_macro_api'><span class='refnanny'>__Pyx_GIVEREF</span></span>(__pyx_t_5);\n",
        "      <span class='py_macro_api'>PyTuple_SET_ITEM</span>(__pyx_t_2, 1, __pyx_t_3);\n",
        "      <span class='pyx_macro_api'><span class='refnanny'>__Pyx_GIVEREF</span></span>(__pyx_t_3);\n",
        "      __pyx_t_5 = 0;\n",
        "      __pyx_t_3 = 0;\n",
        "      __pyx_t_3 = <span class='py_c_api'>PyObject_Call</span>(__pyx_t_1, ((PyObject *)__pyx_t_2), NULL);<span class='error_goto'> if (unlikely(!__pyx_t_3)) {__pyx_filename = __pyx_f[0]; __pyx_lineno = 26; __pyx_clineno = __LINE__; goto __pyx_L1_error;}</span>\n",
        "      <span class='pyx_macro_api'><span class='refnanny'>__Pyx_GOTREF</span></span>(__pyx_t_3);\n",
        "      <span class='pyx_macro_api'>__Pyx_DECREF</span>(__pyx_t_1); __pyx_t_1 = 0;\n",
        "      <span class='pyx_macro_api'>__Pyx_DECREF</span>(((PyObject *)__pyx_t_2)); __pyx_t_2 = 0;\n",
        "      __pyx_t_11 = __pyx_<span class='py_c_api'>PyFloat_AsDouble</span>(__pyx_t_3);<span class='error_goto'> if (unlikely((__pyx_t_11 == (double)-1) && <span class='py_c_api'>PyErr_Occurred</span>())) {__pyx_filename = __pyx_f[0]; __pyx_lineno = 26; __pyx_clineno = __LINE__; goto __pyx_L1_error;}</span>\n",
        "      <span class='pyx_macro_api'>__Pyx_DECREF</span>(__pyx_t_3); __pyx_t_3 = 0;\n",
        "      __pyx_v_y = __pyx_t_11;\n",
        "    }\n",
        "</pre><pre class='line' style='background-color: #FFFFff' onclick='toggleDiv(\"line27\")'> 27:         samples[i, 0] = x</pre>\n",
        "<pre id='line27' class='code' style='background-color: #FFFFff'>\n",
        "    /* \"_cython_magic_47aca511be1c039cbd4a474ec757e22b.pyx\":27\n",
        " *             x = random.gammavariate(3, 1.0 / (y**2 + 4))\n",
        " *             y = random.gauss(1.0/(x+1), 1.0 / sqrt(2 + 2*x))\n",
        " *         samples[i, 0] = x             # <code><</code><code><</code><code><</code><code><</code><code><</code><code><</code><code><</code><code><</code><code><</code><code><</code><code><</code><code><</code><code><</code><code><</code>\n",
        " *         samples[i, 1] = y\n",
        " *     return samples\n",
        " */\n",
        "    __pyx_t_10 = __pyx_v_i;\n",
        "    __pyx_t_12 = 0;\n",
        "    *__Pyx_BufPtrStrided2d(__pyx_t_5numpy_float64_t *, __pyx_pybuffernd_samples.rcbuffer->pybuffer.buf, __pyx_t_10, __pyx_pybuffernd_samples.diminfo[0].strides, __pyx_t_12, __pyx_pybuffernd_samples.diminfo[1].strides) = __pyx_v_x;\n",
        "</pre><pre class='line' style='background-color: #FFFFff' onclick='toggleDiv(\"line28\")'> 28:         samples[i, 1] = y</pre>\n",
        "<pre id='line28' class='code' style='background-color: #FFFFff'>\n",
        "    /* \"_cython_magic_47aca511be1c039cbd4a474ec757e22b.pyx\":28\n",
        " *             y = random.gauss(1.0/(x+1), 1.0 / sqrt(2 + 2*x))\n",
        " *         samples[i, 0] = x\n",
        " *         samples[i, 1] = y             # <code><</code><code><</code><code><</code><code><</code><code><</code><code><</code><code><</code><code><</code><code><</code><code><</code><code><</code><code><</code><code><</code><code><</code>\n",
        " *     return samples\n",
        " */\n",
        "    __pyx_t_13 = __pyx_v_i;\n",
        "    __pyx_t_14 = 1;\n",
        "    *__Pyx_BufPtrStrided2d(__pyx_t_5numpy_float64_t *, __pyx_pybuffernd_samples.rcbuffer->pybuffer.buf, __pyx_t_13, __pyx_pybuffernd_samples.diminfo[0].strides, __pyx_t_14, __pyx_pybuffernd_samples.diminfo[1].strides) = __pyx_v_y;\n",
        "  }\n",
        "</pre><pre class='line' style='background-color: #FFFF52' onclick='toggleDiv(\"line29\")'> 29:     return samples</pre>\n",
        "<pre id='line29' class='code' style='background-color: #FFFF52'>\n",
        "  /* \"_cython_magic_47aca511be1c039cbd4a474ec757e22b.pyx\":29\n",
        " *         samples[i, 0] = x\n",
        " *         samples[i, 1] = y\n",
        " *     return samples             # <code><</code><code><</code><code><</code><code><</code><code><</code><code><</code><code><</code><code><</code><code><</code><code><</code><code><</code><code><</code><code><</code><code><</code>\n",
        " */\n",
        "  <span class='pyx_macro_api'>__Pyx_XDECREF</span>(__pyx_r);\n",
        "  <span class='pyx_macro_api'>__Pyx_INCREF</span>(((PyObject *)__pyx_v_samples));\n",
        "  __pyx_r = ((PyObject *)__pyx_v_samples);\n",
        "  goto __pyx_L0;\n",
        "\n",
        "  __pyx_r = Py_None; <span class='pyx_macro_api'>__Pyx_INCREF</span>(Py_None);\n",
        "  goto __pyx_L0;\n",
        "  __pyx_L1_error:;\n",
        "  <span class='pyx_macro_api'>__Pyx_XDECREF</span>(__pyx_t_1);\n",
        "  <span class='pyx_macro_api'>__Pyx_XDECREF</span>(__pyx_t_2);\n",
        "  <span class='pyx_macro_api'>__Pyx_XDECREF</span>(__pyx_t_3);\n",
        "  <span class='pyx_macro_api'>__Pyx_XDECREF</span>(__pyx_t_4);\n",
        "  <span class='pyx_macro_api'>__Pyx_XDECREF</span>(__pyx_t_5);\n",
        "  { PyObject *__pyx_type, *__pyx_value, *__pyx_tb;\n",
        "    <span class='pyx_c_api'>__Pyx_ErrFetch</span>(&__pyx_type, &__pyx_value, &__pyx_tb);\n",
        "    <span class='pyx_c_api'>__Pyx_SafeReleaseBuffer</span>(&__pyx_pybuffernd_samples.rcbuffer->pybuffer);\n",
        "  <span class='pyx_c_api'>__Pyx_ErrRestore</span>(__pyx_type, __pyx_value, __pyx_tb);}\n",
        "  <span class='pyx_c_api'>__Pyx_AddTraceback</span>(\"_cython_magic_47aca511be1c039cbd4a474ec757e22b.gibbs_cython\", __pyx_clineno, __pyx_lineno, __pyx_filename);\n",
        "  __pyx_r = NULL;\n",
        "  goto __pyx_L2;\n",
        "  __pyx_L0:;\n",
        "  <span class='pyx_c_api'>__Pyx_SafeReleaseBuffer</span>(&__pyx_pybuffernd_samples.rcbuffer->pybuffer);\n",
        "  __pyx_L2:;\n",
        "  <span class='pyx_macro_api'>__Pyx_XDECREF</span>((PyObject *)__pyx_v_samples);\n",
        "  <span class='pyx_macro_api'><span class='refnanny'>__Pyx_XGIVEREF</span></span>(__pyx_r);\n",
        "  <span class='pyx_c_api'><span class='refnanny'>__Pyx_RefNannyFinishContext</span></span>();\n",
        "  return __pyx_r;\n",
        "}\n",
        "\n",
        "/* Python wrapper */\n",
        "static int __pyx_pw_5numpy_7ndarray_1__getbuffer__(PyObject *__pyx_v_self, Py_buffer *__pyx_v_info, int __pyx_v_flags); /*proto*/\n",
        "static int __pyx_pw_5numpy_7ndarray_1__getbuffer__(PyObject *__pyx_v_self, Py_buffer *__pyx_v_info, int __pyx_v_flags) {\n",
        "  int __pyx_r;\n",
        "  <span class='refnanny'>__Pyx_RefNannyDeclarations</span>\n",
        "  <span class='pyx_c_api'><span class='refnanny'>__Pyx_RefNannySetupContext</span></span>(\"__getbuffer__ (wrapper)\", 0);\n",
        "  __pyx_r = __pyx_pf_5numpy_7ndarray___getbuffer__(((PyArrayObject *)__pyx_v_self), ((Py_buffer *)__pyx_v_info), ((int)__pyx_v_flags));\n",
        "  <span class='pyx_c_api'><span class='refnanny'>__Pyx_RefNannyFinishContext</span></span>();\n",
        "  return __pyx_r;\n",
        "}\n",
        "</pre></body></html>"
       ],
       "output_type": "pyout",
       "prompt_number": 9,
       "text": [
        "<IPython.core.display.HTML at 0xcb138ec>"
       ]
      }
     ],
     "prompt_number": 9
    },
    {
     "cell_type": "code",
     "collapsed": false,
     "input": [
      "%timeit gibbs_cython()"
     ],
     "language": "python",
     "metadata": {},
     "outputs": [
      {
       "output_type": "stream",
       "stream": "stdout",
       "text": [
        "1 loops, best of 3: 49 s per loop\n"
       ]
      }
     ],
     "prompt_number": 10
    },
    {
     "cell_type": "markdown",
     "metadata": {},
     "source": [
      "Not too bad. Can we do better?\n",
      "\n",
      "* Looking at annotations: overhead associated with calling Python functions within the loop.\n",
      "* Instead, call directly C-functions.\n",
      "* GNU Scientific Library (GSL) is a **high-quality**, **wicked-fast**, and **well-tested** numerical C library.\n",
      "* CythonGSL provides a Cython interface https://github.com/twiecki/CythonGSL."
     ]
    },
    {
     "cell_type": "heading",
     "level": 3,
     "metadata": {},
     "source": [
      "CythonGSL"
     ]
    },
    {
     "cell_type": "code",
     "collapsed": false,
     "input": [
      "%%cython -lgsl -lgslcblas -a\n",
      "\n",
      "cimport cython\n",
      "from cython_gsl cimport *\n",
      "\n",
      "import numpy as np\n",
      "cimport numpy as np\n",
      "\n",
      "from libc.math cimport sqrt\n",
      "\n",
      "cdef gsl_rng *r = gsl_rng_alloc(gsl_rng_mt19937)\n",
      "\n",
      "@cython.boundscheck(False)\n",
      "@cython.wraparound(False)\n",
      "@cython.cdivision(True)\n",
      "def gibbs_cythongsl(int N=20000, int thin=500):\n",
      "    cdef: \n",
      "        double x = 0\n",
      "        double y = 0\n",
      "        Py_ssize_t i, j\n",
      "        np.ndarray[np.float64_t, ndim=2] samples = np.empty((N, 2), dtype=np.float64)\n",
      "\n",
      "    for i in range(N):\n",
      "        for j in range(thin):\n",
      "            x = gsl_ran_gamma(r, 3, 1 / (y**2 + 4) )\n",
      "            y = gsl_ran_gaussian(r, sqrt(1.0 / (2+2*x) )) + 1/(1+x)\n",
      "        samples[i, 0] = x\n",
      "        samples[i, 1] = y\n",
      "    return samples"
     ],
     "language": "python",
     "metadata": {},
     "outputs": [
      {
       "ename": "LinkError",
       "evalue": "Command \"gcc -pthread -shared -Wl,-O1 -Wl,-Bsymbolic-functions -Wl,-Bsymbolic-functions -Wl,-z,relro /home/whyking/.ipython/cython/home/whyking/.ipython/cython/_cython_magic_66e060ba8bd94b9543bb08884dcaacfc.o - l g s l - l g s l c b l a s -o /home/whyking/.ipython/cython/_cython_magic_66e060ba8bd94b9543bb08884dcaacfc.so\" failed with exit status 1",
       "output_type": "pyerr",
       "traceback": [
        "\u001b[1;31m---------------------------------------------------------------------------\u001b[0m\n\u001b[1;31mLinkError\u001b[0m                                 Traceback (most recent call last)",
        "\u001b[1;32m<ipython-input-9-c71b94be9bfa>\u001b[0m in \u001b[0;36m<module>\u001b[1;34m()\u001b[0m\n\u001b[1;32m----> 1\u001b[1;33m \u001b[0mget_ipython\u001b[0m\u001b[1;33m(\u001b[0m\u001b[1;33m)\u001b[0m\u001b[1;33m.\u001b[0m\u001b[0m_run_cached_cell_magic\u001b[0m\u001b[1;33m(\u001b[0m\u001b[1;34mu'cython'\u001b[0m\u001b[1;33m,\u001b[0m \u001b[1;34mu'-lgsl -lgslcblas -a'\u001b[0m\u001b[1;33m)\u001b[0m\u001b[1;33m\u001b[0m\u001b[0m\n\u001b[0m",
        "\u001b[1;32m/home/whyking/src/ipython/IPython/core/interactiveshell.pyc\u001b[0m in \u001b[0;36m_run_cached_cell_magic\u001b[1;34m(self, magic_name, line)\u001b[0m\n\u001b[0;32m   2532\u001b[0m         \u001b[0mcell\u001b[0m \u001b[1;33m=\u001b[0m \u001b[0mself\u001b[0m\u001b[1;33m.\u001b[0m\u001b[0m_current_cell_magic_body\u001b[0m\u001b[1;33m\u001b[0m\u001b[0m\n\u001b[0;32m   2533\u001b[0m         \u001b[0mself\u001b[0m\u001b[1;33m.\u001b[0m\u001b[0m_current_cell_magic_body\u001b[0m \u001b[1;33m=\u001b[0m \u001b[0mNone\u001b[0m\u001b[1;33m\u001b[0m\u001b[0m\n\u001b[1;32m-> 2534\u001b[1;33m         \u001b[1;32mreturn\u001b[0m \u001b[0mself\u001b[0m\u001b[1;33m.\u001b[0m\u001b[0mrun_cell_magic\u001b[0m\u001b[1;33m(\u001b[0m\u001b[0mmagic_name\u001b[0m\u001b[1;33m,\u001b[0m \u001b[0mline\u001b[0m\u001b[1;33m,\u001b[0m \u001b[0mcell\u001b[0m\u001b[1;33m)\u001b[0m\u001b[1;33m\u001b[0m\u001b[0m\n\u001b[0m\u001b[0;32m   2535\u001b[0m \u001b[1;33m\u001b[0m\u001b[0m\n\u001b[0;32m   2536\u001b[0m     \u001b[1;32mdef\u001b[0m \u001b[0mrun_cell\u001b[0m\u001b[1;33m(\u001b[0m\u001b[0mself\u001b[0m\u001b[1;33m,\u001b[0m \u001b[0mraw_cell\u001b[0m\u001b[1;33m,\u001b[0m \u001b[0mstore_history\u001b[0m\u001b[1;33m=\u001b[0m\u001b[0mFalse\u001b[0m\u001b[1;33m,\u001b[0m \u001b[0msilent\u001b[0m\u001b[1;33m=\u001b[0m\u001b[0mFalse\u001b[0m\u001b[1;33m)\u001b[0m\u001b[1;33m:\u001b[0m\u001b[1;33m\u001b[0m\u001b[0m\n",
        "\u001b[1;32m/home/whyking/src/ipython/IPython/core/interactiveshell.pyc\u001b[0m in \u001b[0;36mrun_cell_magic\u001b[1;34m(self, magic_name, line, cell)\u001b[0m\n\u001b[0;32m   2116\u001b[0m             \u001b[0mmagic_arg_s\u001b[0m \u001b[1;33m=\u001b[0m \u001b[0mself\u001b[0m\u001b[1;33m.\u001b[0m\u001b[0mvar_expand\u001b[0m\u001b[1;33m(\u001b[0m\u001b[0mline\u001b[0m\u001b[1;33m,\u001b[0m \u001b[0mstack_depth\u001b[0m\u001b[1;33m)\u001b[0m\u001b[1;33m\u001b[0m\u001b[0m\n\u001b[0;32m   2117\u001b[0m             \u001b[1;32mwith\u001b[0m \u001b[0mself\u001b[0m\u001b[1;33m.\u001b[0m\u001b[0mbuiltin_trap\u001b[0m\u001b[1;33m:\u001b[0m\u001b[1;33m\u001b[0m\u001b[0m\n\u001b[1;32m-> 2118\u001b[1;33m                 \u001b[0mresult\u001b[0m \u001b[1;33m=\u001b[0m \u001b[0mfn\u001b[0m\u001b[1;33m(\u001b[0m\u001b[0mmagic_arg_s\u001b[0m\u001b[1;33m,\u001b[0m \u001b[0mcell\u001b[0m\u001b[1;33m)\u001b[0m\u001b[1;33m\u001b[0m\u001b[0m\n\u001b[0m\u001b[0;32m   2119\u001b[0m             \u001b[1;32mreturn\u001b[0m \u001b[0mresult\u001b[0m\u001b[1;33m\u001b[0m\u001b[0m\n\u001b[0;32m   2120\u001b[0m \u001b[1;33m\u001b[0m\u001b[0m\n",
        "\u001b[1;32m/home/whyking/src/ipython/IPython/extensions/cythonmagic.py\u001b[0m in \u001b[0;36mcython\u001b[1;34m(self, line, cell)\u001b[0m\n",
        "\u001b[1;32m/home/whyking/src/ipython/IPython/core/magic.pyc\u001b[0m in \u001b[0;36m<lambda>\u001b[1;34m(f, *a, **k)\u001b[0m\n\u001b[0;32m    189\u001b[0m     \u001b[1;31m# but it's overkill for just that one bit of state.\u001b[0m\u001b[1;33m\u001b[0m\u001b[1;33m\u001b[0m\u001b[0m\n\u001b[0;32m    190\u001b[0m     \u001b[1;32mdef\u001b[0m \u001b[0mmagic_deco\u001b[0m\u001b[1;33m(\u001b[0m\u001b[0marg\u001b[0m\u001b[1;33m)\u001b[0m\u001b[1;33m:\u001b[0m\u001b[1;33m\u001b[0m\u001b[0m\n\u001b[1;32m--> 191\u001b[1;33m         \u001b[0mcall\u001b[0m \u001b[1;33m=\u001b[0m \u001b[1;32mlambda\u001b[0m \u001b[0mf\u001b[0m\u001b[1;33m,\u001b[0m \u001b[1;33m*\u001b[0m\u001b[0ma\u001b[0m\u001b[1;33m,\u001b[0m \u001b[1;33m**\u001b[0m\u001b[0mk\u001b[0m\u001b[1;33m:\u001b[0m \u001b[0mf\u001b[0m\u001b[1;33m(\u001b[0m\u001b[1;33m*\u001b[0m\u001b[0ma\u001b[0m\u001b[1;33m,\u001b[0m \u001b[1;33m**\u001b[0m\u001b[0mk\u001b[0m\u001b[1;33m)\u001b[0m\u001b[1;33m\u001b[0m\u001b[0m\n\u001b[0m\u001b[0;32m    192\u001b[0m \u001b[1;33m\u001b[0m\u001b[0m\n\u001b[0;32m    193\u001b[0m         \u001b[1;32mif\u001b[0m \u001b[0mcallable\u001b[0m\u001b[1;33m(\u001b[0m\u001b[0marg\u001b[0m\u001b[1;33m)\u001b[0m\u001b[1;33m:\u001b[0m\u001b[1;33m\u001b[0m\u001b[0m\n",
        "\u001b[1;32m/home/whyking/src/ipython/IPython/extensions/cythonmagic.py\u001b[0m in \u001b[0;36mcython\u001b[1;34m(self, line, cell)\u001b[0m\n\u001b[0;32m    221\u001b[0m             \u001b[0mbuild_extension\u001b[0m\u001b[1;33m.\u001b[0m\u001b[0mbuild_temp\u001b[0m \u001b[1;33m=\u001b[0m \u001b[0mos\u001b[0m\u001b[1;33m.\u001b[0m\u001b[0mpath\u001b[0m\u001b[1;33m.\u001b[0m\u001b[0mdirname\u001b[0m\u001b[1;33m(\u001b[0m\u001b[0mpyx_file\u001b[0m\u001b[1;33m)\u001b[0m\u001b[1;33m\u001b[0m\u001b[0m\n\u001b[0;32m    222\u001b[0m             \u001b[0mbuild_extension\u001b[0m\u001b[1;33m.\u001b[0m\u001b[0mbuild_lib\u001b[0m  \u001b[1;33m=\u001b[0m \u001b[0mlib_dir\u001b[0m\u001b[1;33m\u001b[0m\u001b[0m\n\u001b[1;32m--> 223\u001b[1;33m             \u001b[0mbuild_extension\u001b[0m\u001b[1;33m.\u001b[0m\u001b[0mrun\u001b[0m\u001b[1;33m(\u001b[0m\u001b[1;33m)\u001b[0m\u001b[1;33m\u001b[0m\u001b[0m\n\u001b[0m\u001b[0;32m    224\u001b[0m             \u001b[0mself\u001b[0m\u001b[1;33m.\u001b[0m\u001b[0m_code_cache\u001b[0m\u001b[1;33m[\u001b[0m\u001b[0mkey\u001b[0m\u001b[1;33m]\u001b[0m \u001b[1;33m=\u001b[0m \u001b[0mmodule_name\u001b[0m\u001b[1;33m\u001b[0m\u001b[0m\n\u001b[0;32m    225\u001b[0m \u001b[1;33m\u001b[0m\u001b[0m\n",
        "\u001b[1;32m/usr/lib/python2.7/distutils/command/build_ext.pyc\u001b[0m in \u001b[0;36mrun\u001b[1;34m(self)\u001b[0m\n\u001b[0;32m    337\u001b[0m \u001b[1;33m\u001b[0m\u001b[0m\n\u001b[0;32m    338\u001b[0m         \u001b[1;31m# Now actually compile and link everything.\u001b[0m\u001b[1;33m\u001b[0m\u001b[1;33m\u001b[0m\u001b[0m\n\u001b[1;32m--> 339\u001b[1;33m         \u001b[0mself\u001b[0m\u001b[1;33m.\u001b[0m\u001b[0mbuild_extensions\u001b[0m\u001b[1;33m(\u001b[0m\u001b[1;33m)\u001b[0m\u001b[1;33m\u001b[0m\u001b[0m\n\u001b[0m\u001b[0;32m    340\u001b[0m \u001b[1;33m\u001b[0m\u001b[0m\n\u001b[0;32m    341\u001b[0m     \u001b[1;32mdef\u001b[0m \u001b[0mcheck_extensions_list\u001b[0m\u001b[1;33m(\u001b[0m\u001b[0mself\u001b[0m\u001b[1;33m,\u001b[0m \u001b[0mextensions\u001b[0m\u001b[1;33m)\u001b[0m\u001b[1;33m:\u001b[0m\u001b[1;33m\u001b[0m\u001b[0m\n",
        "\u001b[1;32m/usr/lib/python2.7/distutils/command/build_ext.pyc\u001b[0m in \u001b[0;36mbuild_extensions\u001b[1;34m(self)\u001b[0m\n\u001b[0;32m    446\u001b[0m \u001b[1;33m\u001b[0m\u001b[0m\n\u001b[0;32m    447\u001b[0m         \u001b[1;32mfor\u001b[0m \u001b[0mext\u001b[0m \u001b[1;32min\u001b[0m \u001b[0mself\u001b[0m\u001b[1;33m.\u001b[0m\u001b[0mextensions\u001b[0m\u001b[1;33m:\u001b[0m\u001b[1;33m\u001b[0m\u001b[0m\n\u001b[1;32m--> 448\u001b[1;33m             \u001b[0mself\u001b[0m\u001b[1;33m.\u001b[0m\u001b[0mbuild_extension\u001b[0m\u001b[1;33m(\u001b[0m\u001b[0mext\u001b[0m\u001b[1;33m)\u001b[0m\u001b[1;33m\u001b[0m\u001b[0m\n\u001b[0m\u001b[0;32m    449\u001b[0m \u001b[1;33m\u001b[0m\u001b[0m\n\u001b[0;32m    450\u001b[0m     \u001b[1;32mdef\u001b[0m \u001b[0mbuild_extension\u001b[0m\u001b[1;33m(\u001b[0m\u001b[0mself\u001b[0m\u001b[1;33m,\u001b[0m \u001b[0mext\u001b[0m\u001b[1;33m)\u001b[0m\u001b[1;33m:\u001b[0m\u001b[1;33m\u001b[0m\u001b[0m\n",
        "\u001b[1;32m/usr/lib/python2.7/distutils/command/build_ext.pyc\u001b[0m in \u001b[0;36mbuild_extension\u001b[1;34m(self, ext)\u001b[0m\n\u001b[0;32m    528\u001b[0m             \u001b[0mdebug\u001b[0m\u001b[1;33m=\u001b[0m\u001b[0mself\u001b[0m\u001b[1;33m.\u001b[0m\u001b[0mdebug\u001b[0m\u001b[1;33m,\u001b[0m\u001b[1;33m\u001b[0m\u001b[0m\n\u001b[0;32m    529\u001b[0m             \u001b[0mbuild_temp\u001b[0m\u001b[1;33m=\u001b[0m\u001b[0mself\u001b[0m\u001b[1;33m.\u001b[0m\u001b[0mbuild_temp\u001b[0m\u001b[1;33m,\u001b[0m\u001b[1;33m\u001b[0m\u001b[0m\n\u001b[1;32m--> 530\u001b[1;33m             target_lang=language)\n\u001b[0m\u001b[0;32m    531\u001b[0m \u001b[1;33m\u001b[0m\u001b[0m\n\u001b[0;32m    532\u001b[0m \u001b[1;33m\u001b[0m\u001b[0m\n",
        "\u001b[1;32m/usr/lib/python2.7/distutils/ccompiler.pyc\u001b[0m in \u001b[0;36mlink_shared_object\u001b[1;34m(self, objects, output_filename, output_dir, libraries, library_dirs, runtime_library_dirs, export_symbols, debug, extra_preargs, extra_postargs, build_temp, target_lang)\u001b[0m\n\u001b[0;32m    687\u001b[0m                   \u001b[0mlibraries\u001b[0m\u001b[1;33m,\u001b[0m \u001b[0mlibrary_dirs\u001b[0m\u001b[1;33m,\u001b[0m \u001b[0mruntime_library_dirs\u001b[0m\u001b[1;33m,\u001b[0m\u001b[1;33m\u001b[0m\u001b[0m\n\u001b[0;32m    688\u001b[0m                   \u001b[0mexport_symbols\u001b[0m\u001b[1;33m,\u001b[0m \u001b[0mdebug\u001b[0m\u001b[1;33m,\u001b[0m\u001b[1;33m\u001b[0m\u001b[0m\n\u001b[1;32m--> 689\u001b[1;33m                   extra_preargs, extra_postargs, build_temp, target_lang)\n\u001b[0m\u001b[0;32m    690\u001b[0m \u001b[1;33m\u001b[0m\u001b[0m\n\u001b[0;32m    691\u001b[0m     def link_executable(self, objects, output_progname, output_dir=None,\n",
        "\u001b[1;32m/usr/lib/python2.7/distutils/unixccompiler.pyc\u001b[0m in \u001b[0;36mlink\u001b[1;34m(self, target_desc, objects, output_filename, output_dir, libraries, library_dirs, runtime_library_dirs, export_symbols, debug, extra_preargs, extra_postargs, build_temp, target_lang)\u001b[0m\n\u001b[0;32m    261\u001b[0m                 \u001b[0mself\u001b[0m\u001b[1;33m.\u001b[0m\u001b[0mspawn\u001b[0m\u001b[1;33m(\u001b[0m\u001b[0mlinker\u001b[0m \u001b[1;33m+\u001b[0m \u001b[0mld_args\u001b[0m\u001b[1;33m)\u001b[0m\u001b[1;33m\u001b[0m\u001b[0m\n\u001b[0;32m    262\u001b[0m             \u001b[1;32mexcept\u001b[0m \u001b[0mDistutilsExecError\u001b[0m\u001b[1;33m,\u001b[0m \u001b[0mmsg\u001b[0m\u001b[1;33m:\u001b[0m\u001b[1;33m\u001b[0m\u001b[0m\n\u001b[1;32m--> 263\u001b[1;33m                 \u001b[1;32mraise\u001b[0m \u001b[0mLinkError\u001b[0m\u001b[1;33m,\u001b[0m \u001b[0mmsg\u001b[0m\u001b[1;33m\u001b[0m\u001b[0m\n\u001b[0m\u001b[0;32m    264\u001b[0m         \u001b[1;32melse\u001b[0m\u001b[1;33m:\u001b[0m\u001b[1;33m\u001b[0m\u001b[0m\n\u001b[0;32m    265\u001b[0m             \u001b[0mlog\u001b[0m\u001b[1;33m.\u001b[0m\u001b[0mdebug\u001b[0m\u001b[1;33m(\u001b[0m\u001b[1;34m\"skipping %s (up-to-date)\"\u001b[0m\u001b[1;33m,\u001b[0m \u001b[0moutput_filename\u001b[0m\u001b[1;33m)\u001b[0m\u001b[1;33m\u001b[0m\u001b[0m\n",
        "\u001b[1;31mLinkError\u001b[0m: Command \"gcc -pthread -shared -Wl,-O1 -Wl,-Bsymbolic-functions -Wl,-Bsymbolic-functions -Wl,-z,relro /home/whyking/.ipython/cython/home/whyking/.ipython/cython/_cython_magic_66e060ba8bd94b9543bb08884dcaacfc.o - l g s l - l g s l c b l a s -o /home/whyking/.ipython/cython/_cython_magic_66e060ba8bd94b9543bb08884dcaacfc.so\" failed with exit status 1"
       ]
      },
      {
       "output_type": "stream",
       "stream": "stdout",
       "text": [
        "gcc: error: l: No such file or directory\n",
        "gcc: error: g: No such file or directory\n",
        "gcc: error: s: No such file or directory\n",
        "gcc: error: l: No such file or directory\n",
        "gcc: error: l: No such file or directory\n",
        "gcc: error: g: No such file or directory\n",
        "gcc: error: s: No such file or directory\n",
        "gcc: error: l: No such file or directory\n",
        "gcc: error: c: No such file or directory\n",
        "gcc: error: b: No such file or directory\n",
        "gcc: error: l: No such file or directory\n",
        "gcc: error: a: No such file or directory\n",
        "gcc: error: s: No such file or directory\n"
       ]
      }
     ],
     "prompt_number": 9
    },
    {
     "cell_type": "markdown",
     "metadata": {},
     "source": [
      "Looks good, the loop is now pure C. How much faster is it?"
     ]
    },
    {
     "cell_type": "code",
     "collapsed": false,
     "input": [
      "%timeit gibbs_cythongsl()"
     ],
     "language": "python",
     "metadata": {},
     "outputs": [
      {
       "ename": "NameError",
       "evalue": "global name 'gibbs_cythongsl' is not defined",
       "output_type": "pyerr",
       "traceback": [
        "\u001b[1;31m---------------------------------------------------------------------------\u001b[0m\n\u001b[1;31mNameError\u001b[0m                                 Traceback (most recent call last)",
        "\u001b[1;32m<ipython-input-7-01844fe7e4b2>\u001b[0m in \u001b[0;36m<module>\u001b[1;34m()\u001b[0m\n\u001b[1;32m----> 1\u001b[1;33m \u001b[0mget_ipython\u001b[0m\u001b[1;33m(\u001b[0m\u001b[1;33m)\u001b[0m\u001b[1;33m.\u001b[0m\u001b[0mmagic\u001b[0m\u001b[1;33m(\u001b[0m\u001b[1;34mu'timeit gibbs_cythongsl()'\u001b[0m\u001b[1;33m)\u001b[0m\u001b[1;33m\u001b[0m\u001b[0m\n\u001b[0m",
        "\u001b[1;32m/home/whyking/src/ipython/IPython/core/interactiveshell.pyc\u001b[0m in \u001b[0;36mmagic\u001b[1;34m(self, arg_s)\u001b[0m\n\u001b[0;32m   2159\u001b[0m         \u001b[0mmagic_name\u001b[0m\u001b[1;33m,\u001b[0m \u001b[0m_\u001b[0m\u001b[1;33m,\u001b[0m \u001b[0mmagic_arg_s\u001b[0m \u001b[1;33m=\u001b[0m \u001b[0marg_s\u001b[0m\u001b[1;33m.\u001b[0m\u001b[0mpartition\u001b[0m\u001b[1;33m(\u001b[0m\u001b[1;34m' '\u001b[0m\u001b[1;33m)\u001b[0m\u001b[1;33m\u001b[0m\u001b[0m\n\u001b[0;32m   2160\u001b[0m         \u001b[0mmagic_name\u001b[0m \u001b[1;33m=\u001b[0m \u001b[0mmagic_name\u001b[0m\u001b[1;33m.\u001b[0m\u001b[0mlstrip\u001b[0m\u001b[1;33m(\u001b[0m\u001b[0mprefilter\u001b[0m\u001b[1;33m.\u001b[0m\u001b[0mESC_MAGIC\u001b[0m\u001b[1;33m)\u001b[0m\u001b[1;33m\u001b[0m\u001b[0m\n\u001b[1;32m-> 2161\u001b[1;33m         \u001b[1;32mreturn\u001b[0m \u001b[0mself\u001b[0m\u001b[1;33m.\u001b[0m\u001b[0mrun_line_magic\u001b[0m\u001b[1;33m(\u001b[0m\u001b[0mmagic_name\u001b[0m\u001b[1;33m,\u001b[0m \u001b[0mmagic_arg_s\u001b[0m\u001b[1;33m)\u001b[0m\u001b[1;33m\u001b[0m\u001b[0m\n\u001b[0m\u001b[0;32m   2162\u001b[0m \u001b[1;33m\u001b[0m\u001b[0m\n\u001b[0;32m   2163\u001b[0m     \u001b[1;31m#-------------------------------------------------------------------------\u001b[0m\u001b[1;33m\u001b[0m\u001b[1;33m\u001b[0m\u001b[0m\n",
        "\u001b[1;32m/home/whyking/src/ipython/IPython/core/interactiveshell.pyc\u001b[0m in \u001b[0;36mrun_line_magic\u001b[1;34m(self, magic_name, line)\u001b[0m\n\u001b[0;32m   2085\u001b[0m                 \u001b[0mkwargs\u001b[0m\u001b[1;33m[\u001b[0m\u001b[1;34m'local_ns'\u001b[0m\u001b[1;33m]\u001b[0m \u001b[1;33m=\u001b[0m \u001b[0msys\u001b[0m\u001b[1;33m.\u001b[0m\u001b[0m_getframe\u001b[0m\u001b[1;33m(\u001b[0m\u001b[0mstack_depth\u001b[0m\u001b[1;33m)\u001b[0m\u001b[1;33m.\u001b[0m\u001b[0mf_locals\u001b[0m\u001b[1;33m\u001b[0m\u001b[0m\n\u001b[0;32m   2086\u001b[0m             \u001b[1;32mwith\u001b[0m \u001b[0mself\u001b[0m\u001b[1;33m.\u001b[0m\u001b[0mbuiltin_trap\u001b[0m\u001b[1;33m:\u001b[0m\u001b[1;33m\u001b[0m\u001b[0m\n\u001b[1;32m-> 2087\u001b[1;33m                 \u001b[0mresult\u001b[0m \u001b[1;33m=\u001b[0m \u001b[0mfn\u001b[0m\u001b[1;33m(\u001b[0m\u001b[1;33m*\u001b[0m\u001b[0margs\u001b[0m\u001b[1;33m,\u001b[0m\u001b[1;33m**\u001b[0m\u001b[0mkwargs\u001b[0m\u001b[1;33m)\u001b[0m\u001b[1;33m\u001b[0m\u001b[0m\n\u001b[0m\u001b[0;32m   2088\u001b[0m             \u001b[1;32mreturn\u001b[0m \u001b[0mresult\u001b[0m\u001b[1;33m\u001b[0m\u001b[0m\n\u001b[0;32m   2089\u001b[0m \u001b[1;33m\u001b[0m\u001b[0m\n",
        "\u001b[1;32m/home/whyking/src/ipython/IPython/core/magics/execution.pyc\u001b[0m in \u001b[0;36mtimeit\u001b[1;34m(self, line, cell)\u001b[0m\n",
        "\u001b[1;32m/home/whyking/src/ipython/IPython/core/magic.pyc\u001b[0m in \u001b[0;36m<lambda>\u001b[1;34m(f, *a, **k)\u001b[0m\n\u001b[0;32m    189\u001b[0m     \u001b[1;31m# but it's overkill for just that one bit of state.\u001b[0m\u001b[1;33m\u001b[0m\u001b[1;33m\u001b[0m\u001b[0m\n\u001b[0;32m    190\u001b[0m     \u001b[1;32mdef\u001b[0m \u001b[0mmagic_deco\u001b[0m\u001b[1;33m(\u001b[0m\u001b[0marg\u001b[0m\u001b[1;33m)\u001b[0m\u001b[1;33m:\u001b[0m\u001b[1;33m\u001b[0m\u001b[0m\n\u001b[1;32m--> 191\u001b[1;33m         \u001b[0mcall\u001b[0m \u001b[1;33m=\u001b[0m \u001b[1;32mlambda\u001b[0m \u001b[0mf\u001b[0m\u001b[1;33m,\u001b[0m \u001b[1;33m*\u001b[0m\u001b[0ma\u001b[0m\u001b[1;33m,\u001b[0m \u001b[1;33m**\u001b[0m\u001b[0mk\u001b[0m\u001b[1;33m:\u001b[0m \u001b[0mf\u001b[0m\u001b[1;33m(\u001b[0m\u001b[1;33m*\u001b[0m\u001b[0ma\u001b[0m\u001b[1;33m,\u001b[0m \u001b[1;33m**\u001b[0m\u001b[0mk\u001b[0m\u001b[1;33m)\u001b[0m\u001b[1;33m\u001b[0m\u001b[0m\n\u001b[0m\u001b[0;32m    192\u001b[0m \u001b[1;33m\u001b[0m\u001b[0m\n\u001b[0;32m    193\u001b[0m         \u001b[1;32mif\u001b[0m \u001b[0mcallable\u001b[0m\u001b[1;33m(\u001b[0m\u001b[0marg\u001b[0m\u001b[1;33m)\u001b[0m\u001b[1;33m:\u001b[0m\u001b[1;33m\u001b[0m\u001b[0m\n",
        "\u001b[1;32m/home/whyking/src/ipython/IPython/core/magics/execution.pyc\u001b[0m in \u001b[0;36mtimeit\u001b[1;34m(self, line, cell)\u001b[0m\n\u001b[0;32m    793\u001b[0m             \u001b[0mnumber\u001b[0m \u001b[1;33m=\u001b[0m \u001b[1;36m1\u001b[0m\u001b[1;33m\u001b[0m\u001b[0m\n\u001b[0;32m    794\u001b[0m             \u001b[1;32mfor\u001b[0m \u001b[0mi\u001b[0m \u001b[1;32min\u001b[0m \u001b[0mrange\u001b[0m\u001b[1;33m(\u001b[0m\u001b[1;36m1\u001b[0m\u001b[1;33m,\u001b[0m \u001b[1;36m10\u001b[0m\u001b[1;33m)\u001b[0m\u001b[1;33m:\u001b[0m\u001b[1;33m\u001b[0m\u001b[0m\n\u001b[1;32m--> 795\u001b[1;33m                 \u001b[1;32mif\u001b[0m \u001b[0mtimer\u001b[0m\u001b[1;33m.\u001b[0m\u001b[0mtimeit\u001b[0m\u001b[1;33m(\u001b[0m\u001b[0mnumber\u001b[0m\u001b[1;33m)\u001b[0m \u001b[1;33m>=\u001b[0m \u001b[1;36m0.2\u001b[0m\u001b[1;33m:\u001b[0m\u001b[1;33m\u001b[0m\u001b[0m\n\u001b[0m\u001b[0;32m    796\u001b[0m                     \u001b[1;32mbreak\u001b[0m\u001b[1;33m\u001b[0m\u001b[0m\n\u001b[0;32m    797\u001b[0m                 \u001b[0mnumber\u001b[0m \u001b[1;33m*=\u001b[0m \u001b[1;36m10\u001b[0m\u001b[1;33m\u001b[0m\u001b[0m\n",
        "\u001b[1;32m/usr/lib/python2.7/timeit.pyc\u001b[0m in \u001b[0;36mtimeit\u001b[1;34m(self, number)\u001b[0m\n\u001b[0;32m    193\u001b[0m         \u001b[0mgc\u001b[0m\u001b[1;33m.\u001b[0m\u001b[0mdisable\u001b[0m\u001b[1;33m(\u001b[0m\u001b[1;33m)\u001b[0m\u001b[1;33m\u001b[0m\u001b[0m\n\u001b[0;32m    194\u001b[0m         \u001b[1;32mtry\u001b[0m\u001b[1;33m:\u001b[0m\u001b[1;33m\u001b[0m\u001b[0m\n\u001b[1;32m--> 195\u001b[1;33m             \u001b[0mtiming\u001b[0m \u001b[1;33m=\u001b[0m \u001b[0mself\u001b[0m\u001b[1;33m.\u001b[0m\u001b[0minner\u001b[0m\u001b[1;33m(\u001b[0m\u001b[0mit\u001b[0m\u001b[1;33m,\u001b[0m \u001b[0mself\u001b[0m\u001b[1;33m.\u001b[0m\u001b[0mtimer\u001b[0m\u001b[1;33m)\u001b[0m\u001b[1;33m\u001b[0m\u001b[0m\n\u001b[0m\u001b[0;32m    196\u001b[0m         \u001b[1;32mfinally\u001b[0m\u001b[1;33m:\u001b[0m\u001b[1;33m\u001b[0m\u001b[0m\n\u001b[0;32m    197\u001b[0m             \u001b[1;32mif\u001b[0m \u001b[0mgcold\u001b[0m\u001b[1;33m:\u001b[0m\u001b[1;33m\u001b[0m\u001b[0m\n",
        "\u001b[1;32m<magic-timeit>\u001b[0m in \u001b[0;36minner\u001b[1;34m(_it, _timer)\u001b[0m\n",
        "\u001b[1;31mNameError\u001b[0m: global name 'gibbs_cythongsl' is not defined"
       ]
      }
     ],
     "prompt_number": 7
    },
    {
     "cell_type": "code",
     "collapsed": false,
     "input": [
      "from numba import autojit, jit, random\n",
      "import numpy as np\n",
      "import math\n",
      "\n",
      "state = random.state_p\n",
      "\n",
      "@jit('f8[:,:](int64, int32)')\n",
      "def gibbs_numba(N, thin):\n",
      "    x = 0\n",
      "    y = 0\n",
      "    samples = np.empty((N, 2))\n",
      "    for i in range(N):\n",
      "        for j in range(thin):\n",
      "            x = random.rk_gamma(state, 3, 1.0/(y**2+4))\n",
      "            y = random.rk_normal(state, 1.0/(x+1), 1.0/math.sqrt(2+2*x))\n",
      "\n",
      "        samples[i, 0] = x\n",
      "        samples[i, 1] = y\n",
      "\n",
      "    return samples"
     ],
     "language": "python",
     "metadata": {},
     "outputs": [],
     "prompt_number": 1
    },
    {
     "cell_type": "code",
     "collapsed": false,
     "input": [
      "%timeit gibbs_numba(20000, 500)"
     ],
     "language": "python",
     "metadata": {},
     "outputs": [
      {
       "output_type": "stream",
       "stream": "stdout",
       "text": [
        "1 loops, best of 3: 2.73 s per loop\n"
       ]
      }
     ],
     "prompt_number": 10
    },
    {
     "cell_type": "code",
     "collapsed": false,
     "input": [
      "import numba\n",
      "\n",
      "from ctypes import CDLL, RTLD_GLOBAL\n",
      "import numpy as np\n",
      "\n",
      "libgslcblas = CDLL('libgslcblas.so', mode=RTLD_GLOBAL)\n",
      "libgsl = CDLL('libgsl.so')\n",
      "\n",
      "@numba.jit('double[:,:](int64,int64)')\n",
      "def gibbs_numba(N, thin):\n",
      "    r = libgsl.gsl_rng_alloc(libgsl.gsl_rng_mt19937)\n",
      "    x = 0\n",
      "    y = 0\n",
      "    samples = np.empty((N, 2), dtype=np.float64)\n",
      "\n",
      "    for i in range(N):\n",
      "        for j in range(thin):\n",
      "            x = libgsl.gsl_ran_gamma(r, 3, 1 / (y**2 + 4) )\n",
      "            y = libgsl.gsl_ran_gaussian(r, sqrt(1.0 / (2+2*x) )) + 1/(1+x)\n",
      "        samples[i, 0] = x\n",
      "        samples[i, 1] = y\n",
      "    return samples"
     ],
     "language": "python",
     "metadata": {},
     "outputs": [],
     "prompt_number": 4
    },
    {
     "cell_type": "code",
     "collapsed": false,
     "input": [
      "r = gibbs_numba(20000, 500)"
     ],
     "language": "python",
     "metadata": {},
     "outputs": [],
     "prompt_number": "*"
    },
    {
     "cell_type": "code",
     "collapsed": false,
     "input": [
      "import numba\n",
      "print numba.__version__"
     ],
     "language": "python",
     "metadata": {},
     "outputs": [
      {
       "output_type": "stream",
       "stream": "stdout",
       "text": [
        "843ea49\n"
       ]
      }
     ],
     "prompt_number": 2
    },
    {
     "cell_type": "heading",
     "level": 2,
     "metadata": {},
     "source": [
      "Speed overview"
     ]
    },
    {
     "cell_type": "raw",
     "metadata": {},
     "source": [
      "    | Python | NumPy | Cython | CythonGSL |\n",
      "----+--------+-------+--------+-----------|\n",
      "abs |  60s   |  60s  |   50s  |    2.6s   |\n",
      "rel |   1    |   1   |   1.2  |    ~24    |"
     ]
    },
    {
     "cell_type": "markdown",
     "metadata": {},
     "source": [
      "CythonGSL provides a Cython interface for the GNU Scientific Library (GSL).\n",
      "\n",
      "Cython is the ideal tool to speed up numerical computations by converting typed Python code to C and generating Python wrappers so that these compiled functions can be called from Python. Scientific programming often requires use of various numerical routines (e.g. numerical integration, optimization). While SciPy provides many of those tools, there is an overhead associated with using these functions within your Cython code. CythonGSL allows you to shave off that last layer by providing Cython declarations for the GSL which allow you to use this high-quality library from within Cython without any Python overhead.\n",
      "\n",
      "For more info and code, see https://github.com/twiecki/CythonGSL"
     ]
    },
    {
     "cell_type": "markdown",
     "metadata": {},
     "source": [
      "GSL functionality\n",
      "=================\n",
      "\n",
      "* Complex Numbers\t\n",
      "* Roots of Polynomials\n",
      "* Special Functions\t\n",
      "* Vectors and Matrices\n",
      "* Permutations\t\n",
      "* Sorting\n",
      "* BLAS Support\t\n",
      "* Linear Algebra\n",
      "* Eigensystems\t\n",
      "* Fast Fourier \n",
      "* Transforms\n",
      "* **Quadrature**\n",
      "* Random Numbers\n",
      "* Quasi-Random Sequences\t\n",
      "* Random Distributions\n",
      "* Statistics\t\n",
      "* Histograms\n",
      "* N-Tuples\t\n",
      "* Monte Carlo Integration\n",
      "* Simulated Annealing\t\n",
      "* Differential Equations\n",
      "* Interpolation\t\n",
      "* **Numerical Differentiation**\n",
      "* Chebyshev Approximation\t\n",
      "* Series Acceleration\n",
      "* Discrete Hankel Transforms\t\n",
      "* Root-Finding\n",
      "* **Minimization**\n",
      "* Least-Squares Fitting\n",
      "* Physical Constants\t\n",
      "* IEEE Floating-Point\n",
      "* Discrete Wavelet Transforms\t\n",
      "* Basis splines"
     ]
    },
    {
     "cell_type": "heading",
     "level": 2,
     "metadata": {},
     "source": [
      "Example: Numerical Integration"
     ]
    },
    {
     "cell_type": "code",
     "collapsed": false,
     "input": [
      "%%cython -lgsl -lgslcblas\n",
      "\n",
      "from cython_gsl cimport *\n",
      "\n",
      "ctypedef double * double_ptr\n",
      "ctypedef void * void_ptr\n",
      "\n",
      "cdef double normal(double x, void * params) nogil:\n",
      "    cdef double mu = (<double_ptr> params)[0]\n",
      "    cdef double sigma = (<double_ptr> params)[1]\n",
      "\n",
      "    return gsl_ran_gaussian_pdf(x - mu, sigma)\n",
      "\n",
      "def cdf_numerical(double x, double mu, double sigma):\n",
      "    cdef double alpha, result, error, expected\n",
      "    cdef gsl_integration_workspace * W\n",
      "    W = gsl_integration_workspace_alloc(1000)\n",
      "    cdef gsl_function F\n",
      "    cdef double params[1]\n",
      "    cdef size_t neval\n",
      "\n",
      "    params[0] = mu\n",
      "    params[1] = sigma\n",
      "\n",
      "    F.function = &normal\n",
      "    F.params = params\n",
      "\n",
      "    gsl_integration_qag(&F, -10, x, 1e-2, 1e-2, 1000, GSL_INTEG_GAUSS15, W, &result, &error)\n",
      "    gsl_integration_workspace_free(W)\n",
      "\n",
      "    return result"
     ],
     "language": "python",
     "metadata": {},
     "outputs": [],
     "prompt_number": 13
    },
    {
     "cell_type": "markdown",
     "metadata": {},
     "source": [
      "Easy compilation\n",
      "----------------"
     ]
    },
    {
     "cell_type": "code",
     "collapsed": false,
     "input": [
      "from distutils.core import setup\n",
      "from Cython.Distutils import Extension\n",
      "from Cython.Distutils import build_ext\n",
      "import cython_gsl\n",
      "\n",
      "setup(\n",
      "    [...]\n",
      "    include_dirs = [cython_gsl.get_include()],\n",
      "    cmdclass = {'build_ext': build_ext},\n",
      "    ext_modules = [Extension(\"my_cython_script\",\n",
      "\t\t\t [\"src/my_cython_script.pyx\"],\n",
      "             libraries=cython_gsl.get_libraries(),\n",
      "\t\t\t library_dirs=[cython_gsl.get_library_dir()],\n",
      "             include_dirs=[cython_gsl.get_cython_include_dir()])]\n",
      ")"
     ],
     "language": "python",
     "metadata": {},
     "outputs": []
    },
    {
     "cell_type": "markdown",
     "metadata": {},
     "source": [
      "Credits\n",
      "=======\n",
      "\n",
      "Examples based on Gibbs sampler explored in various blog posts:\n",
      "http://pyinsci.blogspot.com/2010/12/efficcient-mcmc-in-python.html\n",
      "https://darrenjw.wordpress.com/2011/07/16/gibbs-sampler-in-various-languages-revisited/\n",
      "\n",
      "CythonGSL is a fork of PyrexGsl by Mario Pernici: http://wwwteor.mi.infn.it/~pernici/pyrexgsl/pyrexgsl.html"
     ]
    }
   ],
   "metadata": {}
  }
 ]
}